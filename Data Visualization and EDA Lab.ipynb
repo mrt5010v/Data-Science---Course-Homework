{
 "cells": [
  {
   "cell_type": "code",
   "execution_count": 1,
   "metadata": {},
   "outputs": [],
   "source": [
    "%matplotlib inline"
   ]
  },
  {
   "cell_type": "code",
   "execution_count": 2,
   "metadata": {},
   "outputs": [],
   "source": [
    "import pandas as pd\n",
    "import numpy as np\n",
    "import matplotlib.pyplot as plt\n",
    "import nose.tools"
   ]
  },
  {
   "cell_type": "markdown",
   "metadata": {},
   "source": [
    "# Data Visualization and Exploratory Data Analysis Lab\n",
    "## Visualizing and exploring data. Data mining process as a whole"
   ]
  },
  {
   "cell_type": "markdown",
   "metadata": {},
   "source": [
    "### Problem 1. Read the dataset (1 point)\n",
    "You'll be exploring data about people's income. Your task is to understand whether there are significant differences in the lifestyle of lower- vs. higher-income groups.\n",
    "\n",
    "Read the dataset located [here](https://archive.ics.uci.edu/ml/machine-learning-databases/adult/adult.data). The information file is [here](https://archive.ics.uci.edu/ml/machine-learning-databases/adult/adult.names). Save it into the variable `income_data`. Change the column names to what you like. The last column is related to the income class.\n",
    "\n",
    "Get acquainted with the information file well before starting work.\n",
    "\n",
    "You don't need to clean the dataset."
   ]
  },
  {
   "cell_type": "code",
   "execution_count": 3,
   "metadata": {
    "deletable": false,
    "nbgrader": {
     "checksum": "1100e6bb30ef5be00db508ca1f24d75c",
     "grade": false,
     "grade_id": "read-dataset",
     "locked": false,
     "schema_version": 1,
     "solution": true
    },
    "scrolled": true
   },
   "outputs": [
    {
     "data": {
      "text/html": [
       "<div>\n",
       "<style scoped>\n",
       "    .dataframe tbody tr th:only-of-type {\n",
       "        vertical-align: middle;\n",
       "    }\n",
       "\n",
       "    .dataframe tbody tr th {\n",
       "        vertical-align: top;\n",
       "    }\n",
       "\n",
       "    .dataframe thead th {\n",
       "        text-align: right;\n",
       "    }\n",
       "</style>\n",
       "<table border=\"1\" class=\"dataframe\">\n",
       "  <thead>\n",
       "    <tr style=\"text-align: right;\">\n",
       "      <th></th>\n",
       "      <th>age</th>\n",
       "      <th>workclass</th>\n",
       "      <th>fnlwgt</th>\n",
       "      <th>education</th>\n",
       "      <th>education_num</th>\n",
       "      <th>marital_status</th>\n",
       "      <th>occupation</th>\n",
       "      <th>relationship</th>\n",
       "      <th>race</th>\n",
       "      <th>sex</th>\n",
       "      <th>capital_gain</th>\n",
       "      <th>capital_loss</th>\n",
       "      <th>hours_per_week</th>\n",
       "      <th>native_country</th>\n",
       "      <th>salary_label</th>\n",
       "    </tr>\n",
       "  </thead>\n",
       "  <tbody>\n",
       "    <tr>\n",
       "      <th>0</th>\n",
       "      <td>39</td>\n",
       "      <td>State-gov</td>\n",
       "      <td>77516</td>\n",
       "      <td>Bachelors</td>\n",
       "      <td>13</td>\n",
       "      <td>Never-married</td>\n",
       "      <td>Adm-clerical</td>\n",
       "      <td>Not-in-family</td>\n",
       "      <td>White</td>\n",
       "      <td>Male</td>\n",
       "      <td>2174</td>\n",
       "      <td>0</td>\n",
       "      <td>40</td>\n",
       "      <td>United-States</td>\n",
       "      <td>&lt;=50K</td>\n",
       "    </tr>\n",
       "    <tr>\n",
       "      <th>1</th>\n",
       "      <td>50</td>\n",
       "      <td>Self-emp-not-inc</td>\n",
       "      <td>83311</td>\n",
       "      <td>Bachelors</td>\n",
       "      <td>13</td>\n",
       "      <td>Married-civ-spouse</td>\n",
       "      <td>Exec-managerial</td>\n",
       "      <td>Husband</td>\n",
       "      <td>White</td>\n",
       "      <td>Male</td>\n",
       "      <td>0</td>\n",
       "      <td>0</td>\n",
       "      <td>13</td>\n",
       "      <td>United-States</td>\n",
       "      <td>&lt;=50K</td>\n",
       "    </tr>\n",
       "    <tr>\n",
       "      <th>2</th>\n",
       "      <td>38</td>\n",
       "      <td>Private</td>\n",
       "      <td>215646</td>\n",
       "      <td>HS-grad</td>\n",
       "      <td>9</td>\n",
       "      <td>Divorced</td>\n",
       "      <td>Handlers-cleaners</td>\n",
       "      <td>Not-in-family</td>\n",
       "      <td>White</td>\n",
       "      <td>Male</td>\n",
       "      <td>0</td>\n",
       "      <td>0</td>\n",
       "      <td>40</td>\n",
       "      <td>United-States</td>\n",
       "      <td>&lt;=50K</td>\n",
       "    </tr>\n",
       "    <tr>\n",
       "      <th>3</th>\n",
       "      <td>53</td>\n",
       "      <td>Private</td>\n",
       "      <td>234721</td>\n",
       "      <td>11th</td>\n",
       "      <td>7</td>\n",
       "      <td>Married-civ-spouse</td>\n",
       "      <td>Handlers-cleaners</td>\n",
       "      <td>Husband</td>\n",
       "      <td>Black</td>\n",
       "      <td>Male</td>\n",
       "      <td>0</td>\n",
       "      <td>0</td>\n",
       "      <td>40</td>\n",
       "      <td>United-States</td>\n",
       "      <td>&lt;=50K</td>\n",
       "    </tr>\n",
       "    <tr>\n",
       "      <th>4</th>\n",
       "      <td>28</td>\n",
       "      <td>Private</td>\n",
       "      <td>338409</td>\n",
       "      <td>Bachelors</td>\n",
       "      <td>13</td>\n",
       "      <td>Married-civ-spouse</td>\n",
       "      <td>Prof-specialty</td>\n",
       "      <td>Wife</td>\n",
       "      <td>Black</td>\n",
       "      <td>Female</td>\n",
       "      <td>0</td>\n",
       "      <td>0</td>\n",
       "      <td>40</td>\n",
       "      <td>Cuba</td>\n",
       "      <td>&lt;=50K</td>\n",
       "    </tr>\n",
       "  </tbody>\n",
       "</table>\n",
       "</div>"
      ],
      "text/plain": [
       "   age         workclass  fnlwgt  education  education_num  \\\n",
       "0   39         State-gov   77516  Bachelors             13   \n",
       "1   50  Self-emp-not-inc   83311  Bachelors             13   \n",
       "2   38           Private  215646    HS-grad              9   \n",
       "3   53           Private  234721       11th              7   \n",
       "4   28           Private  338409  Bachelors             13   \n",
       "\n",
       "       marital_status         occupation   relationship   race     sex  \\\n",
       "0       Never-married       Adm-clerical  Not-in-family  White    Male   \n",
       "1  Married-civ-spouse    Exec-managerial        Husband  White    Male   \n",
       "2            Divorced  Handlers-cleaners  Not-in-family  White    Male   \n",
       "3  Married-civ-spouse  Handlers-cleaners        Husband  Black    Male   \n",
       "4  Married-civ-spouse     Prof-specialty           Wife  Black  Female   \n",
       "\n",
       "   capital_gain  capital_loss  hours_per_week native_country salary_label  \n",
       "0          2174             0              40  United-States        <=50K  \n",
       "1             0             0              13  United-States        <=50K  \n",
       "2             0             0              40  United-States        <=50K  \n",
       "3             0             0              40  United-States        <=50K  \n",
       "4             0             0              40           Cuba        <=50K  "
      ]
     },
     "execution_count": 3,
     "metadata": {},
     "output_type": "execute_result"
    }
   ],
   "source": [
    "income_data = pd.read_csv('./DataSets/adult.data', header = None, skipinitialspace=True)\n",
    "\n",
    "#http://cseweb.ucsd.edu/classes/sp15/cse190-c/reports/sp15/048.pdf\n",
    "#for more information\n",
    "\n",
    "income_data.columns = ['age', 'workclass', 'fnlwgt', 'education', 'education_num', 'marital_status',\n",
    "                        'occupation', 'relationship', 'race', 'sex', 'capital_gain', 'capital_loss',\n",
    "                        'hours_per_week', 'native_country', 'salary_label']\n",
    "\n",
    "income_data.head(5)\n",
    "#income_data.tail(50)\n",
    "#income_data['salary_label'].unique()\n",
    "#income_data.shape\n",
    "#income_data.dtypes\n",
    "#income_data.describe().T\n",
    "\n",
    "#income_data.capital_gain.nlargest(50)\n",
    "#income_data.capital_gain.unique()\n",
    "\n",
    "#used to calculate the number of values (used to ckeck values for problem 3)\n",
    "#condition = income_data['capital_gain'] == 65656\n",
    "#len(income_data[condition])"
   ]
  },
  {
   "cell_type": "code",
   "execution_count": 4,
   "metadata": {},
   "outputs": [],
   "source": [
    "#delete\n",
    "#very useful it allows us to see the whole DataFrame without limitations\n",
    "#pd.set_option(\"display.max_rows\", None, \"display.max_columns\", None)\n",
    "\n",
    "#names = pd.read_table('../03. Data-Visualization-Exploratory-Data-Analysis-Lab/adult.names')\n",
    "#names"
   ]
  },
  {
   "cell_type": "code",
   "execution_count": 5,
   "metadata": {
    "deletable": false,
    "editable": false,
    "nbgrader": {
     "checksum": "6f1acd92663c630ea7be4ae6a4f4b1a3",
     "grade": true,
     "grade_id": "read-dataset-tests",
     "locked": true,
     "points": 1,
     "schema_version": 1,
     "solution": false
    }
   },
   "outputs": [],
   "source": [
    "nose.tools.assert_is_not_none(income_data)"
   ]
  },
  {
   "cell_type": "markdown",
   "metadata": {},
   "source": [
    "### Problem 2. High income (1 point)\n",
    "How many people have high income (over 50 000 USD per year)? Write a function to return the value. The function should accept the dataframe as a parameter. Work with that parameter."
   ]
  },
  {
   "cell_type": "code",
   "execution_count": 6,
   "metadata": {
    "deletable": false,
    "nbgrader": {
     "checksum": "2e3a3eb52f23b84701cddd0c71c1a443",
     "grade": false,
     "grade_id": "high-income",
     "locked": false,
     "schema_version": 1,
     "solution": true
    }
   },
   "outputs": [],
   "source": [
    "def get_num_people_with_high_income(dataframe):\n",
    "    '''function that returns the number of people,\n",
    "    who earn more than 50K per year'''\n",
    "    \n",
    "    condition = dataframe['salary_label'] == ' >50K'\n",
    "    num_high_earners = len(dataframe[condition])\n",
    "    \n",
    "    return num_high_earners"
   ]
  },
  {
   "cell_type": "code",
   "execution_count": 7,
   "metadata": {
    "deletable": false,
    "editable": false,
    "nbgrader": {
     "checksum": "e6284216dc88e4a433035553084c42ab",
     "grade": true,
     "grade_id": "high-income-tests",
     "locked": true,
     "points": 1,
     "schema_version": 1,
     "solution": false
    }
   },
   "outputs": [],
   "source": [
    "# This cell contains hidden tests"
   ]
  },
  {
   "cell_type": "markdown",
   "metadata": {},
   "source": [
    "### Problem 3. Capital gain: thresholding (1 point)\n",
    "Plot a histogram of the capital gain. You can see that there are many people with relatively low gains and a few people - with very high gains."
   ]
  },
  {
   "cell_type": "code",
   "execution_count": 8,
   "metadata": {
    "deletable": false,
    "nbgrader": {
     "checksum": "5c1843e15f32b6f2a8ba19bd9f237a43",
     "grade": false,
     "grade_id": "high-gain",
     "locked": false,
     "schema_version": 1,
     "solution": true
    }
   },
   "outputs": [
    {
     "data": {
      "image/png": "[encoded data removed]",
      "text/plain": [
       "<Figure size 432x288 with 1 Axes>"
      ]
     },
     "metadata": {
      "needs_background": "light"
     },
     "output_type": "display_data"
    }
   ],
   "source": [
    "# YOUR CODE HERE\n",
    "\n",
    "#plt.hist(income_data.index, income_data.capital_gain)\n",
    "plt.hist(income_data.capital_gain, bins =60)\n",
    "\n",
    "plt.title('Capital gain')\n",
    "\n",
    "plt.xlabel('Capital gain [$]')\n",
    "plt.ylabel('Count of people')\n",
    "\n",
    "# shows only values between 0 and 100,000 on the X axis\n",
    "plt.xlim(0, 100000)\n",
    "\n",
    "# shows only values between 0 and 31,000 on the Y axis\n",
    "plt.ylim(0,31000)\n",
    "\n",
    "#shows the ticks on Y\n",
    "plt.yticks()\n",
    "old_values = [0. , 5000., 10000., 15000., 20000., 25000., 30000.]\n",
    "new_values = ['' , 5000., 10000., 15000., 20000., 25000., 30000.]\n",
    "\n",
    "#changing the yticks in this case removing the double zero\n",
    "plt.yticks(old_values, new_values)\n",
    "\n",
    "\n",
    "plt.show()\n",
    "\n",
    "#We can see that the mojority of the people in this DataFrame (29849 out of 32651) are receiving no capital gain\n",
    "#There is small proportion of people who get capital gain\n",
    "#While only 159 of 32561 people are getting $99,999 capital gain"
   ]
  },
  {
   "cell_type": "markdown",
   "metadata": {},
   "source": [
    "Write a function which accepts a dataframe and a capital gain value (in USD) and returns how many people are there with **greater than or equal to** that threshold gain."
   ]
  },
  {
   "cell_type": "code",
   "execution_count": 9,
   "metadata": {
    "deletable": false,
    "nbgrader": {
     "checksum": "1a4b91174558f18a2c8aa05349124a42",
     "grade": false,
     "grade_id": "high-gain-fn",
     "locked": false,
     "schema_version": 1,
     "solution": true
    }
   },
   "outputs": [],
   "source": [
    "def get_num_people_with_higher_gain(dataframe, threshold_gain):\n",
    "    '''function that returns the number of people,\n",
    "    who received capital gain over given threshold'''\n",
    "    \n",
    "    condition_1 = income_data['capital_gain'] >= threshold_gain\n",
    "    threshold_capital = len(income_data[condition_1])\n",
    "    \n",
    "    return threshold_capital"
   ]
  },
  {
   "cell_type": "code",
   "execution_count": 10,
   "metadata": {
    "deletable": false,
    "editable": false,
    "nbgrader": {
     "checksum": "f95e3ca5c5cf7af82ba098cc4505060b",
     "grade": true,
     "grade_id": "high-gain-tests",
     "locked": true,
     "points": 1,
     "schema_version": 1,
     "solution": false
    }
   },
   "outputs": [],
   "source": [
    "nose.tools.assert_equal(get_num_people_with_higher_gain(income_data, 60000), 159)"
   ]
  },
  {
   "cell_type": "markdown",
   "metadata": {},
   "source": [
    "Create a pie chart of the number of people by marital status."
   ]
  },
  {
   "cell_type": "code",
   "execution_count": 11,
   "metadata": {
    "deletable": false,
    "nbgrader": {
     "checksum": "3f7c991513f38ee3e685493f9196a269",
     "grade": false,
     "grade_id": "cell-1e91969a128f0bd6",
     "locked": false,
     "schema_version": 1,
     "solution": true
    },
    "scrolled": true
   },
   "outputs": [
    {
     "data": {
      "image/png": "[encoded data removed]",
      "text/plain": [
       "<Figure size 432x288 with 1 Axes>"
      ]
     },
     "metadata": {},
     "output_type": "display_data"
    }
   ],
   "source": [
    "# YOUR CODE HERE\n",
    "#We can not make the pie plot straight away, because we do not have the values of the categorical variable - maritial_status\n",
    "\n",
    "def get_num_people_with_marital_status(dataframe):\n",
    "    '''function that returns the number of people,\n",
    "    with their marital status'''\n",
    "    \n",
    "    #used to get the list of values\n",
    "    income_data['marital_status'].unique()\n",
    "    \n",
    "    list_marital_status = ['Never-married', 'Married-civ-spouse', 'Divorced',\n",
    "                           'Married-spouse-absent', 'Separated', 'Married-AF-spouse',\n",
    "                           'Widowed']\n",
    "    x = []\n",
    "    for i in range(len(list_marital_status)):   \n",
    "        condition_3 = dataframe['marital_status'] == list_marital_status[i]\n",
    "        x.append(len(dataframe[condition_3]))\n",
    "    return x\n",
    "\n",
    "#Gets the list of values we need in order to plot the pie plot\n",
    "marital_status_values = get_num_people_with_marital_status(income_data)\n",
    "#[10683, 14976, 4443, 418, 1025, 23, 993] - these are the values we get\n",
    "\n",
    "\n",
    "#Actual plotting - not very representative\n",
    "#plt.pie(marital_status_values, labels = ['Never-married', 'Married-civ-spouse', 'Divorced',\n",
    "#                           'Married-spouse-absent', 'Separated', 'Married-AF-spouse',\n",
    "#                           'Widowed'])\n",
    "\n",
    "\n",
    "#In the plot above ' Married-AF-spouse' is not very visible,\n",
    "#so we can alter the data to visualize it better, log() is not very good, sqrt() is better\n",
    "plt.pie(np.sqrt(marital_status_values), labels = ['Never-married', 'Married-civ-spouse', 'Divorced',\n",
    "                           'Married-spouse-absent', 'Separated', 'Married-AF-spouse',\n",
    "                           'Widowed'])\n",
    "\n",
    "\n",
    "# Make the plot look circular\n",
    "plt.gca().set_aspect(\"equal\")\n",
    "\n",
    "plt.show()"
   ]
  },
  {
   "cell_type": "markdown",
   "metadata": {},
   "source": [
    "### Problem 4. Marital status (2 points)\n",
    "Which type of marital status is the most prominent (i.e. has the most people)? How many are there? Write a function that **calculates and returns the two answers**. "
   ]
  },
  {
   "cell_type": "code",
   "execution_count": 12,
   "metadata": {
    "deletable": false,
    "nbgrader": {
     "checksum": "e9966cb2920b04c4df332da313f4e508",
     "grade": false,
     "grade_id": "cell-5c9a472102a7b452",
     "locked": false,
     "schema_version": 1,
     "solution": true
    }
   },
   "outputs": [],
   "source": [
    "def most_prominent_marital_status(dataframe):\n",
    "    '''function that returns the max number of people,\n",
    "    with their marital status'''\n",
    "\n",
    "    \n",
    "    #used to get the list of values\n",
    "    income_data['marital_status'].unique()\n",
    "    \n",
    "    list_marital_status_1 = ['Never-married', 'Married-civ-spouse', 'Divorced',\n",
    "                           'Married-spouse-absent', 'Separated', 'Married-AF-spouse',\n",
    "                           'Widowed']\n",
    "    \n",
    "    num_people = 0\n",
    "    status = ''\n",
    "    for i in range(len(list_marital_status_1)):\n",
    "        condition_4 = dataframe['marital_status'] == list_marital_status_1[i]\n",
    "        if num_people < len(dataframe[condition_4]):\n",
    "            num_people = len(dataframe[condition_4])\n",
    "            status= list_marital_status_1[i]\n",
    "\n",
    "    return (status, num_people)"
   ]
  },
  {
   "cell_type": "code",
   "execution_count": 13,
   "metadata": {
    "deletable": false,
    "editable": false,
    "nbgrader": {
     "checksum": "a2ef87117dcbc8db2d43cf9e9883c695",
     "grade": true,
     "grade_id": "cell-0077a3c8d4339ad7",
     "locked": true,
     "points": 2,
     "schema_version": 1,
     "solution": false
    }
   },
   "outputs": [],
   "source": [
    "(status, num_people) = most_prominent_marital_status(income_data)\n",
    "nose.tools.assert_not_equal(status, \"\")\n",
    "nose.tools.assert_greater(num_people, 10000)"
   ]
  },
  {
   "cell_type": "markdown",
   "metadata": {},
   "source": [
    "### Problem 5. Age groups (1 point)\n",
    "Create a histogram of all people's ages. Use the default settings. Add the label \"Age\" on the x-axis and \"Count\" on the y-axis."
   ]
  },
  {
   "cell_type": "code",
   "execution_count": 14,
   "metadata": {
    "deletable": false,
    "nbgrader": {
     "checksum": "60c6510ffb115c08ab7fed3b29a27465",
     "grade": false,
     "grade_id": "cell-3ba52bf669280861",
     "locked": false,
     "schema_version": 1,
     "solution": true
    }
   },
   "outputs": [
    {
     "data": {
      "image/png": "[encoded data removed]",
      "text/plain": [
       "<Figure size 432x288 with 1 Axes>"
      ]
     },
     "metadata": {
      "needs_background": "light"
     },
     "output_type": "display_data"
    }
   ],
   "source": [
    "# YOUR CODE HERE\n",
    "\n",
    "plt.hist(income_data['age'])\n",
    "\n",
    "plt.xlabel('Age')\n",
    "plt.ylabel('Count')\n",
    "\n",
    "plt.show()\n",
    "\n",
    "#The plot below shows the distribution of people's ages that took part in the survey\n",
    "#We can see that the mojority of them is around 30-40 years old.\n",
    "#Please Note: the plot is left intentionally without Title and other modifications\n",
    "#as per the task"
   ]
  },
  {
   "cell_type": "markdown",
   "metadata": {},
   "source": [
    "Let's get another view of the data. Split the ages into three:\n",
    "1. Young people: $\\text{age} \\le 30$\n",
    "2. Middle-aged people: $30 < \\text{age} \\le 60$\n",
    "3. Old people: $60 < \\text{age}$\n",
    "\n",
    "Return the counts in the following function. Which age group has the most people? How many are there?"
   ]
  },
  {
   "cell_type": "code",
   "execution_count": 15,
   "metadata": {
    "deletable": false,
    "nbgrader": {
     "checksum": "03420d0fea2b98e57aa98b9b5f483b86",
     "grade": false,
     "grade_id": "cell-b8a6cda122bf0fb3",
     "locked": false,
     "schema_version": 1,
     "solution": true
    }
   },
   "outputs": [],
   "source": [
    "def get_num_people_by_age_category(dataframe):\n",
    "    \"\"\"this function runs throughout the whole 'age' column\n",
    "    and calculates the number of people who belong to different age groups\"\"\"\n",
    "    \n",
    "    young, middle_aged, old = (0, 0, 0)\n",
    "    \n",
    "    for i in range(len(income_data['age'])):\n",
    "        if income_data['age'].loc[i] <= 30:\n",
    "            young += 1\n",
    "        if 30 < income_data['age'].loc[i] <= 60:\n",
    "             middle_aged += 1\n",
    "        if income_data['age'].loc[i] > 60:\n",
    "            old += 1\n",
    "    return young, middle_aged, old\n",
    "\n",
    "#let's check that it is working as we want it to\n",
    "#first let's see that it gives the total amount of people:\n",
    "#total_people = young + middle_aged + old\n",
    "#assert (total_people) == len(income_data['age'])\n",
    "\n",
    "#second check - is the number of people aged below and equal to 30 equal to 10572?\n",
    "#it can be altered in order to check and the other age groups (10572, 19657, 2332)\n",
    "#assert (income_data['age'][income_data['age'] <=30].count() == 10572)"
   ]
  },
  {
   "cell_type": "code",
   "execution_count": 16,
   "metadata": {
    "deletable": false,
    "editable": false,
    "nbgrader": {
     "checksum": "79117a39e1c6066eece95309ce45dc81",
     "grade": true,
     "grade_id": "cell-17898d5f42dd42d5",
     "locked": true,
     "points": 1,
     "schema_version": 1,
     "solution": false
    }
   },
   "outputs": [],
   "source": [
    "young, middle_aged, old = get_num_people_by_age_category(income_data)\n",
    "nose.tools.assert_greater(young, 0)\n",
    "nose.tools.assert_greater(middle_aged, 0)\n",
    "nose.tools.assert_greater(old, 0)"
   ]
  },
  {
   "cell_type": "markdown",
   "metadata": {},
   "source": [
    "Now we can create a bar chart. Execute the code below to see it."
   ]
  },
  {
   "cell_type": "code",
   "execution_count": 17,
   "metadata": {},
   "outputs": [
    {
     "data": {
      "image/png": "[encoded data removed]",
      "text/plain": [
       "<Figure size 432x288 with 1 Axes>"
      ]
     },
     "metadata": {
      "needs_background": "light"
     },
     "output_type": "display_data"
    }
   ],
   "source": [
    "plt.title(\"Distribution of people by age groups\")\n",
    "plt.bar(range(3), [young, middle_aged, old])\n",
    "plt.xticks(range(3), [\"Young\", \"Middle-aged\", \"Old\"])\n",
    "plt.ylabel(\"Count\")\n",
    "plt.show()"
   ]
  },
  {
   "cell_type": "markdown",
   "metadata": {},
   "source": [
    "### Problem 6. Native country (2 points)\n",
    "Have a look at the native country of the people. The highest number of people are, as expected, from the US. What country makes for **the second highest** number of people? How many are they? Write a function to **calculate** and return the answer given a dataframe. DO NOT hardcode the answer, e.g. `return \"Germany\"`."
   ]
  },
  {
   "cell_type": "code",
   "execution_count": 18,
   "metadata": {
    "deletable": false,
    "nbgrader": {
     "checksum": "f48b741de66aedff2d878c5bcaf010cf",
     "grade": false,
     "grade_id": "cell-96faf6efe52dd3d0",
     "locked": false,
     "schema_version": 1,
     "solution": true
    }
   },
   "outputs": [],
   "source": [
    "def get_second_highest_num_people(dataframe):\n",
    "    \n",
    "    #instantiating the main variables that we want to return\n",
    "    num_people, country = 0, \"\"\n",
    "    \n",
    "    #PART 1\n",
    "    #this condition gives the unique values for 'native_country' column\n",
    "    condition_6 = income_data['native_country']\n",
    "    income_data['native_country'].unique()\n",
    "\n",
    "    #this variable shows all the unique values for 'native_country'\n",
    "    coutries_list = ['United-States', 'Cuba', 'Jamaica', 'India', '?', 'Mexico',\n",
    "                   'South', 'Puerto-Rico', 'Honduras', 'England', 'Canada',\n",
    "                   'Germany', 'Iran', 'Philippines', 'Italy', 'Poland',\n",
    "                   'Columbia', 'Cambodia', 'Thailand', 'Ecuador', 'Laos',\n",
    "                   'Taiwan', 'Haiti', 'Portugal', 'Dominican-Republic',\n",
    "                   'El-Salvador', 'France', 'Guatemala', 'China', 'Japan',\n",
    "                   'Yugoslavia', 'Peru', 'Outlying-US(Guam-USVI-etc)', 'Scotland',\n",
    "                   'Trinadad&Tobago', 'Greece', 'Nicaragua', 'Vietnam', 'Hong',\n",
    "                   'Ireland', 'Hungary', 'Holand-Netherlands']\n",
    "\n",
    "    #resident_by_countries will store the number of people by country, \n",
    "    #for example, number of English people who took part in the survey\n",
    "    resident_by_countries = []\n",
    "    for i in range(len(income_data['native_country'].unique())):   \n",
    "        condition_6 = income_data['native_country'] == coutries_list[i]\n",
    "        resident_by_countries.append(len(income_data[condition_6]))\n",
    "    #sum(resident_by_countries) #check to see if we get the sum of all people who took part\n",
    "\n",
    "    #PART 2\n",
    "    #the following chunck is taken from the link below\n",
    "    #https://www.geeksforgeeks.org/python-program-to-find-second-largest-number-in-a-list/\n",
    "    #mx is the biggest number, num_people is the second biggest (the one we need)\n",
    "    #this chunk compares the first 2 elements of the list compares them and assigns them\n",
    "    #in other words this bit finds the second biggest element of the list\n",
    "    mx=max(resident_by_countries[0],resident_by_countries[1])\n",
    "    #for convinience I name num_people to be the secondmax value\n",
    "    num_people=min(resident_by_countries[0],resident_by_countries[1])\n",
    "    n = len(resident_by_countries)\n",
    "    \n",
    "    for i in range(2,n):\n",
    "        if resident_by_countries[i]>mx:  \n",
    "            num_people=mx \n",
    "            mx=resident_by_countries[i]\n",
    "        elif resident_by_countries[i]>num_people and mx != resident_by_countries[i]:\n",
    "            num_people=resident_by_countries[i]\n",
    "    \n",
    "    \n",
    "    #PART 3\n",
    "    #this chunk of code finds the corresponding id for the second biggest element of the list\n",
    "    id_country = 0\n",
    "    for i in range(len(resident_by_countries)):\n",
    "        if num_people == resident_by_countries[i]:\n",
    "            id_country = i\n",
    "    country = coutries_list[id_country]\n",
    "    country , num_people    \n",
    "    \n",
    "    return num_people, country\n",
    "\n",
    "\n",
    "#get_second_highest_num_people(income_data)\n",
    "\n",
    "#for manual check\n",
    "#resident_by_countries"
   ]
  },
  {
   "cell_type": "code",
   "execution_count": 19,
   "metadata": {
    "deletable": false,
    "editable": false,
    "nbgrader": {
     "checksum": "d5981b1108063667383480f69588bdf6",
     "grade": true,
     "grade_id": "cell-923d941301d6acc8",
     "locked": true,
     "points": 2,
     "schema_version": 1,
     "solution": false
    }
   },
   "outputs": [],
   "source": [
    "num_people, country = get_second_highest_num_people(income_data)\n",
    "nose.tools.assert_greater(num_people, 0)\n",
    "nose.tools.assert_not_equal(country, \"\")"
   ]
  },
  {
   "cell_type": "markdown",
   "metadata": {},
   "source": [
    "### Problem 7. Busiest occupations (2 points)\n",
    "Which people are most overworked? Group all data by occupation and calculate the mean hours per week for each group.\n",
    "\n",
    "Write a function that **calculates and returns** all mean hours per week as a `Series`. Sort the results in descending order (most hours to fewest hours)."
   ]
  },
  {
   "cell_type": "code",
   "execution_count": 20,
   "metadata": {
    "deletable": false,
    "nbgrader": {
     "checksum": "8800a118285464a703ef223c058dc869",
     "grade": false,
     "grade_id": "cell-f93bf9800cb3bc46",
     "locked": false,
     "schema_version": 1,
     "solution": true
    },
    "scrolled": true
   },
   "outputs": [],
   "source": [
    "def get_mean_working_hours_by_income(dataframe):\n",
    "    df = dataframe.groupby('occupation')['hours_per_week'].mean().sort_values(ascending = False)\n",
    "    return df.round(2)  \n",
    "\n",
    "#hours = get_mean_working_hours_by_income(income_data)\n",
    "#hours\n",
    "\n",
    "#checks if 'df' is Series\n",
    "#if isinstance(hours, pd.Series):\n",
    "#    print(1)\n",
    "#else:\n",
    "#    print(0)"
   ]
  },
  {
   "cell_type": "code",
   "execution_count": 21,
   "metadata": {
    "deletable": false,
    "editable": false,
    "nbgrader": {
     "checksum": "95d5a2c122057fb62658d0d3602436bc",
     "grade": true,
     "grade_id": "cell-69cd7b7f6076b0ed",
     "locked": true,
     "points": 2,
     "schema_version": 1,
     "solution": false
    }
   },
   "outputs": [
    {
     "name": "stdout",
     "output_type": "stream",
     "text": [
      "occupation\n",
      "Farming-fishing      46.99\n",
      "Exec-managerial      44.99\n",
      "Transport-moving     44.66\n",
      "Protective-serv      42.87\n",
      "Prof-specialty       42.39\n",
      "Craft-repair         42.30\n",
      "Sales                40.78\n",
      "Machine-op-inspct    40.76\n",
      "Armed-Forces         40.67\n",
      "Tech-support         39.43\n",
      "Handlers-cleaners    37.95\n",
      "Adm-clerical         37.56\n",
      "Other-service        34.70\n",
      "Priv-house-serv      32.89\n",
      "?                    31.91\n",
      "Name: hours_per_week, dtype: float64\n"
     ]
    }
   ],
   "source": [
    "hours = get_mean_working_hours_by_income(income_data)\n",
    "print(hours)\n",
    "nose.tools.assert_almost_equal(hours[\"Handlers-cleaners\"], 37.95, delta = 0.01)"
   ]
  },
  {
   "cell_type": "markdown",
   "metadata": {},
   "source": [
    "Finally, let's plot a bar chart. Check the values carefully. If your do not match, feel free to edit the chart generation code below."
   ]
  },
  {
   "cell_type": "code",
   "execution_count": 22,
   "metadata": {},
   "outputs": [
    {
     "data": {
      "image/png": "[encoded data removed]",
      "text/plain": [
       "<Figure size 720x432 with 1 Axes>"
      ]
     },
     "metadata": {
      "needs_background": "light"
     },
     "output_type": "display_data"
    }
   ],
   "source": [
    "plt.figure(figsize = (10, 6))\n",
    "plt.title(\"Weekly hours by occupation\")\n",
    "plt.barh(range(len(hours)), hours)\n",
    "plt.yticks(list(range(len(hours))), hours.index)\n",
    "plt.show()"
   ]
  }
 ],
 "metadata": {
  "kernelspec": {
   "display_name": "Python 3",
   "language": "python",
   "name": "python3"
  },
  "language_info": {
   "codemirror_mode": {
    "name": "ipython",
    "version": 3
   },
   "file_extension": ".py",
   "mimetype": "text/x-python",
   "name": "python",
   "nbconvert_exporter": "python",
   "pygments_lexer": "ipython3",
   "version": "3.8.8"
  }
 },
 "nbformat": 4,
 "nbformat_minor": 2
}
